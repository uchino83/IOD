{
 "cells": [
  {
   "cell_type": "markdown",
   "metadata": {
    "colab_type": "text",
    "id": "XfnQYVMtJhQD"
   },
   "source": [
    "<div>\n",
    "<img src=https://www.institutedata.com/wp-content/uploads/2019/10/iod_h_tp_primary_c.svg width=\"300\">\n",
    "</div>\n"
   ]
  },
  {
   "cell_type": "markdown",
   "metadata": {
    "colab_type": "text",
    "id": "5dCt8XbjJhQG"
   },
   "source": [
    "# Lab 2.2.2 \n",
    "# *Mining Social Media with Twitter*"
   ]
  },
  {
   "cell_type": "markdown",
   "metadata": {
    "colab_type": "text",
    "id": "b5VfS9hhJhQI"
   },
   "source": [
    "## The Twitter API and Tweepy Package"
   ]
  },
  {
   "cell_type": "markdown",
   "metadata": {
    "colab_type": "text",
    "id": "lF2z-w5uJhQK"
   },
   "source": [
    "The Twitter API provides access to tweets and comments, and allows an application to post tweets to the user's timeline. \n",
    "\n",
    "Twitter requires developers to create and authenticate an app before they can use the API. As of recent policy changes, however, new developers must be approved before they can create an app. There is no indication of the waiting period for approval."
   ]
  },
  {
   "cell_type": "markdown",
   "metadata": {
    "colab_type": "text",
    "id": "M0wxJ8HNJhQM"
   },
   "source": [
    "### 1. Apply for Developer Access\n",
    "\n",
    "Go to https://blog.twitter.com/developer/en_us/topics/tools/2018/new-developer-requirements-to-protect-our-platform.html\n",
    "and read the advice.\n",
    "![image.png](attachment:image.png)"
   ]
  },
  {
   "cell_type": "markdown",
   "metadata": {
    "colab_type": "text",
    "id": "tICSKwL1JhQN"
   },
   "source": [
    "Apply at https://developer.twitter.com/en/apply-for-access.html\n",
    "![image.png](attachment:image.png)"
   ]
  },
  {
   "cell_type": "markdown",
   "metadata": {
    "colab_type": "text",
    "id": "M4-znQaaJhQP"
   },
   "source": [
    "Then go to https://developer.twitter.com/en/review every day until you see whatever comes after this: \n",
    "![image.png](attachment:image.png)"
   ]
  },
  {
   "cell_type": "markdown",
   "metadata": {
    "colab_type": "text",
    "id": "NMeZ70IZJhQR"
   },
   "source": [
    "### 2. Create Your Twitter App\n",
    "![image.png](attachment:image.png)"
   ]
  },
  {
   "cell_type": "markdown",
   "metadata": {
    "colab_type": "text",
    "id": "HpWMHz9NJhQS"
   },
   "source": [
    "### 3. Load Python Libraries"
   ]
  },
  {
   "cell_type": "code",
   "execution_count": 1,
   "metadata": {},
   "outputs": [
    {
     "name": "stdout",
     "output_type": "stream",
     "text": [
      "Collecting tweepy\n",
      "  Downloading tweepy-3.10.0-py2.py3-none-any.whl (30 kB)\n",
      "Requirement already satisfied: requests[socks]>=2.11.1 in /Users/uchino/anaconda3/lib/python3.7/site-packages (from tweepy) (2.25.1)\n",
      "Requirement already satisfied: requests-oauthlib>=0.7.0 in /Users/uchino/anaconda3/lib/python3.7/site-packages (from tweepy) (1.3.0)\n",
      "Requirement already satisfied: six>=1.10.0 in /Users/uchino/anaconda3/lib/python3.7/site-packages (from tweepy) (1.15.0)\n",
      "Requirement already satisfied: oauthlib>=3.0.0 in /Users/uchino/anaconda3/lib/python3.7/site-packages (from requests-oauthlib>=0.7.0->tweepy) (3.1.0)\n",
      "Requirement already satisfied: chardet<5,>=3.0.2 in /Users/uchino/anaconda3/lib/python3.7/site-packages (from requests[socks]>=2.11.1->tweepy) (3.0.4)\n",
      "Requirement already satisfied: urllib3<1.27,>=1.21.1 in /Users/uchino/anaconda3/lib/python3.7/site-packages (from requests[socks]>=2.11.1->tweepy) (1.24.1)\n",
      "Requirement already satisfied: certifi>=2017.4.17 in /Users/uchino/anaconda3/lib/python3.7/site-packages (from requests[socks]>=2.11.1->tweepy) (2020.12.5)\n",
      "Requirement already satisfied: idna<3,>=2.5 in /Users/uchino/anaconda3/lib/python3.7/site-packages (from requests[socks]>=2.11.1->tweepy) (2.8)\n",
      "Requirement already satisfied: PySocks!=1.5.7,>=1.5.6 in /Users/uchino/anaconda3/lib/python3.7/site-packages (from requests[socks]>=2.11.1->tweepy) (1.6.8)\n",
      "Installing collected packages: tweepy\n",
      "Successfully installed tweepy-3.10.0\n"
     ]
    }
   ],
   "source": [
    "!pip install tweepy"
   ]
  },
  {
   "cell_type": "code",
   "execution_count": 2,
   "metadata": {
    "colab": {},
    "colab_type": "code",
    "id": "16hb8EpNJhQU"
   },
   "outputs": [],
   "source": [
    "import tweepy\n",
    "import json\n",
    "import pprint"
   ]
  },
  {
   "cell_type": "markdown",
   "metadata": {
    "colab_type": "text",
    "id": "p7W0se6_JhQX"
   },
   "source": [
    "### 4. Authenticate from your Python script"
   ]
  },
  {
   "cell_type": "markdown",
   "metadata": {
    "colab_type": "text",
    "id": "mJfe55dVJhQY"
   },
   "source": [
    "You could assign your authentication details explicitly, as follows:"
   ]
  },
  {
   "cell_type": "code",
   "execution_count": 3,
   "metadata": {
    "colab": {},
    "colab_type": "code",
    "id": "aygW7a3eJhQZ"
   },
   "outputs": [],
   "source": [
    "my_consumer_key = 'GS7kRxkpveBFqpey6myCwJ01d'      # your consumer key (string) goes in here\n",
    "my_consumer_secret = 'gGc9bnCGYQvjDY8M47foKmRSdl6FuFqmOIAOIJMn4M39rIlXUT'   # your consumer secret key (string) goes in here\n",
    "my_access_token = '82147042-L7wiMqxZqib6XiLdpphwskaKGKfEjZfMw4mhEdMOr'      # your access token (string) goes in here\n",
    "access_token_secret = 'EZvfP55xXAmqymu3SpDL8yxVKVOe9DFYYFwfiaBbMWckW'  # your access token secret (string) goes in here"
   ]
  },
  {
   "cell_type": "code",
   "execution_count": 4,
   "metadata": {},
   "outputs": [],
   "source": [
    "import json\n",
    "\n",
    "auth_twitter_json = {\n",
    "    'consumer_key': 'GS7kRxkpveBFqpey6myCwJ01d'      # your consumer key (string) goes in here\n",
    "    , 'consumer_secret': 'gGc9bnCGYQvjDY8M47foKmRSdl6FuFqmOIAOIJMn4M39rIlXUT'   # your consumer secret key (string) goes in here\n",
    "    , 'access_token': '82147042-L7wiMqxZqib6XiLdpphwskaKGKfEjZfMw4mhEdMOr'      # your access token (string goes in here\n",
    "    , 'access_token_secret': 'EZvfP55xXAmqymu3SpDL8yxVKVOe9DFYYFwfiaBbMWckW'  # your access token secret (string) goes in here\n",
    "}\n",
    "\n",
    "with open('auth_twitter.json', 'w') as outfile:  \n",
    "    json.dump(auth_twitter_json, outfile)"
   ]
  },
  {
   "cell_type": "markdown",
   "metadata": {
    "colab_type": "text",
    "id": "7LXwmSzOJhQe"
   },
   "source": [
    "A better way would be to store these details externally, so they are not displayed in the notebook:\n",
    "\n",
    "- create a file called \"auth_twitter.json\" in your \"notebooks\" directory, and save your credentials there in JSON format:\n",
    "\n",
    "`{   \"my_consumer_key\": \"your consumer key (string) goes in here\",` <br>\n",
    "&nbsp;&nbsp;&nbsp;&nbsp;&nbsp;&nbsp;&nbsp;&nbsp;` \"my_consumer_secret\": \"your consumer secret key (string) goes in here\",` <br>\n",
    "&nbsp;&nbsp;&nbsp;&nbsp;&nbsp;&nbsp;&nbsp;&nbsp;`\"your access token (string goes in here\",` <br>\n",
    "&nbsp;&nbsp;&nbsp;&nbsp;&nbsp;&nbsp;&nbsp;&nbsp;`\"my_access_token_secret\": \"your access token secret (string) goes in here\"` <br>\n",
    "`}`\n",
    "\n",
    "(Nb. Parsers are very fussy. Make sure each key:value pair has a comma after it except the last one!)  \n",
    "\n",
    "Use the following code to load the credentials:  "
   ]
  },
  {
   "cell_type": "code",
   "execution_count": 5,
   "metadata": {
    "colab": {},
    "colab_type": "code",
    "id": "kh2srKpzJhQh"
   },
   "outputs": [
    {
     "data": {
      "text/plain": [
       "'/Users/uchino/Desktop/IoD/Labs'"
      ]
     },
     "execution_count": 5,
     "metadata": {},
     "output_type": "execute_result"
    }
   ],
   "source": [
    "pwd()  # make sure your working directory is where the file is"
   ]
  },
  {
   "cell_type": "code",
   "execution_count": 6,
   "metadata": {
    "colab": {},
    "colab_type": "code",
    "id": "uR8Vchz7JhQm"
   },
   "outputs": [
    {
     "name": "stdout",
     "output_type": "stream",
     "text": [
      "{   'access_token': '82147042-L7wiMqxZqib6XiLdpphwskaKGKfEjZfMw4mhEdMOr',\n",
      "    'access_token_secret': 'EZvfP55xXAmqymu3SpDL8yxVKVOe9DFYYFwfiaBbMWckW',\n",
      "    'consumer_key': 'GS7kRxkpveBFqpey6myCwJ01d',\n",
      "    'consumer_secret': 'gGc9bnCGYQvjDY8M47foKmRSdl6FuFqmOIAOIJMn4M39rIlXUT'}\n"
     ]
    }
   ],
   "source": [
    "path_auth = 'auth_twitter.json'\n",
    "auth = json.loads(open(path_auth).read())\n",
    "pp = pprint.PrettyPrinter(indent=4)\n",
    "# For debugging only:\n",
    "pp.pprint(auth)"
   ]
  },
  {
   "cell_type": "code",
   "execution_count": 7,
   "metadata": {},
   "outputs": [],
   "source": [
    "my_consumer_key = auth['consumer_key']\n",
    "my_consumer_secret = auth['consumer_secret']\n",
    "my_access_token = auth['access_token']\n",
    "my_access_token_secret = auth['access_token_secret']"
   ]
  },
  {
   "cell_type": "markdown",
   "metadata": {
    "colab_type": "text",
    "id": "GPRmYZigJhQp"
   },
   "source": [
    "Security considerations: \n",
    "- this method only keeps your credentials invisible as long as nobody accesses this notebook while it's running on your computer \n",
    "- if you wanted another user to have access to the executable notebook without divulging your credentials you should set up an OAuth 2.0 workflow to let them obtain and apply their own API tokens when using your app\n",
    "- if you just want to share your analyses, you could use a separate script (which you don't share) to fetch the data and save it locally, then use a second notebook (with no API access) to load and analyse the locally stored data"
   ]
  },
  {
   "cell_type": "markdown",
   "metadata": {
    "colab_type": "text",
    "id": "Ln30k0pZJhQp"
   },
   "source": [
    "### 5. Exploring the API"
   ]
  },
  {
   "cell_type": "markdown",
   "metadata": {
    "colab_type": "text",
    "id": "6fsc0U1nJhQq"
   },
   "source": [
    "Here is how to connect to Twitter using the Tweepy library:"
   ]
  },
  {
   "cell_type": "code",
   "execution_count": 8,
   "metadata": {
    "colab": {},
    "colab_type": "code",
    "id": "-y_4GBx1JhQr"
   },
   "outputs": [],
   "source": [
    "auth = tweepy.OAuthHandler(my_consumer_key, my_consumer_secret)\n",
    "auth.set_access_token(my_access_token, my_access_token_secret)\n",
    "api = tweepy.API(auth)"
   ]
  },
  {
   "cell_type": "markdown",
   "metadata": {
    "colab_type": "text",
    "id": "wSKzR9LdJhQu"
   },
   "source": [
    "In the next cell, put the cursor after the '.' and hit the [tab] key to see the available members and methods in the response object:"
   ]
  },
  {
   "cell_type": "code",
   "execution_count": 9,
   "metadata": {
    "colab": {},
    "colab_type": "code",
    "id": "BfnAOR2bJhQv"
   },
   "outputs": [
    {
     "data": {
      "text/plain": [
       "{'id': 593601370,\n",
       " 'id_str': '593601370',\n",
       " 'name': 'Mehedi Hossain Babo',\n",
       " 'screen_name': 'mhbabo95',\n",
       " 'location': 'Chandpur, Bangladesh',\n",
       " 'description': '',\n",
       " 'url': 'https://t.co/5eDyj9qwuK',\n",
       " 'entities': {'url': {'urls': [{'url': 'https://t.co/5eDyj9qwuK',\n",
       "     'expanded_url': 'http://myzonebd.com',\n",
       "     'display_url': 'myzonebd.com',\n",
       "     'indices': [0, 23]}]},\n",
       "  'description': {'urls': []}},\n",
       " 'protected': True,\n",
       " 'followers_count': 16,\n",
       " 'friends_count': 163,\n",
       " 'listed_count': 0,\n",
       " 'created_at': 'Tue May 29 10:55:33 +0000 2012',\n",
       " 'favourites_count': 0,\n",
       " 'utc_offset': None,\n",
       " 'time_zone': None,\n",
       " 'geo_enabled': True,\n",
       " 'verified': False,\n",
       " 'statuses_count': 1034,\n",
       " 'lang': None,\n",
       " 'contributors_enabled': False,\n",
       " 'is_translator': False,\n",
       " 'is_translation_enabled': False,\n",
       " 'profile_background_color': 'C0DEED',\n",
       " 'profile_background_image_url': 'http://abs.twimg.com/images/themes/theme1/bg.png',\n",
       " 'profile_background_image_url_https': 'https://abs.twimg.com/images/themes/theme1/bg.png',\n",
       " 'profile_background_tile': False,\n",
       " 'profile_image_url': 'http://pbs.twimg.com/profile_images/1305199163856924672/4v74qkGb_normal.jpg',\n",
       " 'profile_image_url_https': 'https://pbs.twimg.com/profile_images/1305199163856924672/4v74qkGb_normal.jpg',\n",
       " 'profile_banner_url': 'https://pbs.twimg.com/profile_banners/593601370/1593545685',\n",
       " 'profile_link_color': '1DA1F2',\n",
       " 'profile_sidebar_border_color': 'C0DEED',\n",
       " 'profile_sidebar_fill_color': 'DDEEF6',\n",
       " 'profile_text_color': '333333',\n",
       " 'profile_use_background_image': True,\n",
       " 'has_extended_profile': True,\n",
       " 'default_profile': True,\n",
       " 'default_profile_image': False,\n",
       " 'following': False,\n",
       " 'live_following': False,\n",
       " 'follow_request_sent': False,\n",
       " 'notifications': False,\n",
       " 'muting': False,\n",
       " 'blocking': False,\n",
       " 'blocked_by': False,\n",
       " 'translator_type': 'none',\n",
       " 'withheld_in_countries': []}"
      ]
     },
     "execution_count": 9,
     "metadata": {},
     "output_type": "execute_result"
    }
   ],
   "source": [
    "api.followers()[0]._json"
   ]
  },
  {
   "cell_type": "markdown",
   "metadata": {
    "colab_type": "text",
    "id": "DcJ-cc6zJhQz"
   },
   "source": [
    "Consult the Tweept and Twitter API documentation. Print a few of the response members below:"
   ]
  },
  {
   "cell_type": "code",
   "execution_count": 10,
   "metadata": {
    "colab": {},
    "colab_type": "code",
    "id": "W_IKqMAQJhQ1"
   },
   "outputs": [],
   "source": [
    "# Retrieve a Twitter user object\n",
    "obama = api.get_user('barackobama')"
   ]
  },
  {
   "cell_type": "code",
   "execution_count": 11,
   "metadata": {},
   "outputs": [
    {
     "data": {
      "text/plain": [
       "Status(_api=<tweepy.api.API object at 0x7f9ee22a3c88>, _json={'created_at': 'Mon May 17 17:00:09 +0000 2021', 'id': 1394336949939445760, 'id_str': '1394336949939445760', 'text': 'This month marks 60 years since the Freedom Riders bravely set out on two buses to challenge segregation in the Sou… https://t.co/IdXo1jfqDL', 'truncated': True, 'entities': {'hashtags': [], 'symbols': [], 'user_mentions': [], 'urls': [{'url': 'https://t.co/IdXo1jfqDL', 'expanded_url': 'https://twitter.com/i/web/status/1394336949939445760', 'display_url': 'twitter.com/i/web/status/1…', 'indices': [117, 140]}]}, 'source': '<a href=\"http://twitter.com/download/iphone\" rel=\"nofollow\">Twitter for iPhone</a>', 'in_reply_to_status_id': None, 'in_reply_to_status_id_str': None, 'in_reply_to_user_id': None, 'in_reply_to_user_id_str': None, 'in_reply_to_screen_name': None, 'geo': None, 'coordinates': None, 'place': None, 'contributors': None, 'is_quote_status': False, 'retweet_count': 2752, 'favorite_count': 18180, 'favorited': False, 'retweeted': False, 'possibly_sensitive': False, 'lang': 'en'}, created_at=datetime.datetime(2021, 5, 17, 17, 0, 9), id=1394336949939445760, id_str='1394336949939445760', text='This month marks 60 years since the Freedom Riders bravely set out on two buses to challenge segregation in the Sou… https://t.co/IdXo1jfqDL', truncated=True, entities={'hashtags': [], 'symbols': [], 'user_mentions': [], 'urls': [{'url': 'https://t.co/IdXo1jfqDL', 'expanded_url': 'https://twitter.com/i/web/status/1394336949939445760', 'display_url': 'twitter.com/i/web/status/1…', 'indices': [117, 140]}]}, source='Twitter for iPhone', source_url='http://twitter.com/download/iphone', in_reply_to_status_id=None, in_reply_to_status_id_str=None, in_reply_to_user_id=None, in_reply_to_user_id_str=None, in_reply_to_screen_name=None, geo=None, coordinates=None, place=None, contributors=None, is_quote_status=False, retweet_count=2752, favorite_count=18180, favorited=False, retweeted=False, possibly_sensitive=False, lang='en')"
      ]
     },
     "execution_count": 11,
     "metadata": {},
     "output_type": "execute_result"
    }
   ],
   "source": [
    "obama.status"
   ]
  },
  {
   "cell_type": "markdown",
   "metadata": {
    "colab_type": "text",
    "id": "dLkdLKjLJhQ3"
   },
   "source": [
    "This will fetch recent tweets from accounts you follow:"
   ]
  },
  {
   "cell_type": "code",
   "execution_count": 12,
   "metadata": {
    "colab": {},
    "colab_type": "code",
    "id": "l9y8t3X7JhQ4"
   },
   "outputs": [
    {
     "name": "stdout",
     "output_type": "stream",
     "text": [
      "Update: Ohio had its highest vaccination day in 3 weeks after these incentives were announced https://t.co/c36ffdY7eq\n",
      "My review of A Quiet Place Part II (dir. John Krasinski) is up here: https://t.co/pyfOEgzT84\n",
      "RT @DeputyJorhat: Please get in touch if you want to donate ...Every small gesture counts .\n",
      "Regards, https://t.co/DErEsga2Hr\n",
      "Enid Bakewell, who played for England at the first ever Cricket World Cup in 1973, is still killing it on the crick… https://t.co/zCEkrlrHo8\n",
      "RT @El_Chopernos: UPDATE: Have a lead in Bangalore where it has been procured. Is there anyone who is flying to Bhubaneswar who can carry i…\n",
      "Thread 👇 https://t.co/75XY6hoECh https://t.co/1kBX9hyriW\n",
      "Yes. Because you will still have 60 Indian players playing in the eleven so it will remain an INDIAN Premier league… https://t.co/A59ouS00fe\n",
      "The penultimate #PL threads of 2020/21 🧵 https://t.co/OopAFJGmRg\n",
      "Arsenal defender David Luiz held talks over \"months\" with manager Mikel Arteta before it was decided he would leave. #bbcfootball\n",
      "RT @mmfa: We've shown at length how Fox News is a uniquely destructive and dishonest force. Now, over 40 groups have signed an open letter…\n",
      "RT @nilanjanaroy: He's never going to get over the humiliation of losing, badly, thoroughly and comprehensively, to a woman he tried unsucc…\n",
      "chkz84: Samsung SmartThings Vision Sensor $15 + Delivery or Free C&amp;C @ JB Hi-Fi https://t.co/y0vrESf1Yv\n",
      "Great news! A teenage girl missing from the Cranebrook area has been found safe and well. Thanks to the public for their assistance.\n",
      "সাংবাদিকদের বিরুদ্ধে মামলা নয়,দুর্নীতিবাজদের বিরুদ্ধে ব্যবস্থা নিন: হানিফ https://t.co/Jl9NBwfqI7 \n",
      "#freerozinaislam\n",
      "\"elated in their own echo system\"?!\n",
      "\n",
      "The man, Disraeli said, needs no response. He is inebriated by the exuberance… https://t.co/U1YomEiFKS\n",
      "Business Idea: Whatabouterypedia.\n",
      "Utah legislators wouldn’t know what to think if FoxNews wasn’t there to tell them. This Critical Race Theory furor… https://t.co/B3IwnQV6wW\n",
      "RT @AnnTelnaes: Really @Facebook ? Clay Jones is a well-known editorial cartoonist.  What's the problem? #FreeSpeech\n",
      "Lysander: [XB1, SUBS] Game Pass Adds: Maneater/Conan Exiles/Snowrunner/Spellforce 3: SH/MechWarrior 5 + 10 more - M… https://t.co/C8N6eFK7KR\n"
     ]
    }
   ],
   "source": [
    "# Recent tweets from accounts you follow:\n",
    "tweets = api.home_timeline()\n",
    "for tweet in tweets:\n",
    "    print(tweet.text)"
   ]
  },
  {
   "cell_type": "markdown",
   "metadata": {
    "colab_type": "text",
    "id": "k2NpPlOIJhQ6"
   },
   "source": [
    "The request to see your own recent tweets is similar, but uses the `user_timeline` endpoint. Try this below:"
   ]
  },
  {
   "cell_type": "code",
   "execution_count": 13,
   "metadata": {
    "colab": {},
    "colab_type": "code",
    "id": "QMlhdx5NJhQ6"
   },
   "outputs": [
    {
     "name": "stdout",
     "output_type": "stream",
     "text": [
      "@robelinda2 @Saraansh3 Can we have those in your channel please?\n",
      "@Afqaar2 @ziyanali78 @moonsightingau Fiji is closer than Perth though. 🤦🏾‍♂️\n",
      "২০২১ সালে চাঁদ দেখা কমিটি করে, নতুন চাঁদ ডুবে যাওয়ার পর, চাঁদ দেখার চেষ্টা করা একটা উৎকট রসিকতা ছাড়া কিছুই না।\n",
      "RT @ovshake42: IPL suspended for the season.\n",
      "\n",
      "Time to convert the venues into Covid-19 hospitals.\n",
      "\n",
      "The Ahmedabad ground is already well-equ…\n",
      "RT @sidvee: Of course people can 'not watch IPL'. But that is not the point. A national tragedy is a time for EVERY SINGLE resource. Player…\n",
      "RT @Mickeyarthurcr1: Spot on!\n",
      "লংকানদের বাংলাদেশ ক্রিকেট নিয়ে বেশি আইডিয়া নাই মনে হয়। থাকলে এতোক্ষণে ডিক্লেয়ার করে দিতো।\n",
      "\n",
      "৮০% চান্স বাংলাদেশ ১… https://t.co/mzGPOeNV1l\n",
      "RT @icelandcricket: Behind the million-dollar glitz and glamour of the IPL, a great humanitarian catastrophe is unfolding in India. As we c…\n",
      "❤️ https://t.co/DzVbTB9myi\n",
      "What's the legal way to watch #SLvBAN Test in Australia? @BCBtigers @OfficialSLC\n",
      "@xunaed @TSLComms @ChampionsLeague মাঝখান দিয়ে মরিনহো স্যাক হয়ে গেলো।\n",
      "@afidelf How old are you?\n",
      "@xunaed @jacindaardern @HelenClarkNZ @nzpolice @NZStuff I love NZ. ❤️\n",
      "@cricketingview No love for Shakib?\n",
      "RT @cover_drives: Compilation of few best IPL commercials and promos.\n",
      "\n",
      "(A THREAD)\n",
      "ভাগ্য ভালো ট্রায়াল বাই কমব্যাট ডিমান্ড করে নাই।\n",
      "@stevesmithffx 😂\n",
      "@cricketingview No love for Tubby?\n",
      "বাংলাদেশকে ৫০ ওভার দেয়া হোক চেজের জন্য। ক্লোজ ম্যাচ হবে।\n",
      "@xunaed @cricketaakash 😂\n"
     ]
    }
   ],
   "source": [
    "#ANSWER:\n",
    "# Your recent tweets:\n",
    "tweets = api.user_timeline()\n",
    "for tweet in tweets:\n",
    "    print(tweet.text)"
   ]
  },
  {
   "cell_type": "markdown",
   "metadata": {
    "colab_type": "text",
    "id": "qY7oM-lJJhQ8"
   },
   "source": [
    "Now, instead of printing the text of each tweet, print the `created_at` and `id_str` methods:"
   ]
  },
  {
   "cell_type": "code",
   "execution_count": 14,
   "metadata": {
    "colab": {},
    "colab_type": "code",
    "id": "aUOlNdG8JhQ9"
   },
   "outputs": [
    {
     "name": "stdout",
     "output_type": "stream",
     "text": [
      "2021-05-13 22:51:34\n",
      "@robelinda2 @Saraansh3 Can we have those in your channel please?\n",
      "2021-05-12 13:24:58\n",
      "@Afqaar2 @ziyanali78 @moonsightingau Fiji is closer than Perth though. 🤦🏾‍♂️\n",
      "2021-05-12 13:22:21\n",
      "২০২১ সালে চাঁদ দেখা কমিটি করে, নতুন চাঁদ ডুবে যাওয়ার পর, চাঁদ দেখার চেষ্টা করা একটা উৎকট রসিকতা ছাড়া কিছুই না।\n",
      "2021-05-05 08:22:14\n",
      "RT @ovshake42: IPL suspended for the season.\n",
      "\n",
      "Time to convert the venues into Covid-19 hospitals.\n",
      "\n",
      "The Ahmedabad ground is already well-equ…\n",
      "2021-04-26 07:42:38\n",
      "RT @sidvee: Of course people can 'not watch IPL'. But that is not the point. A national tragedy is a time for EVERY SINGLE resource. Player…\n",
      "2021-04-26 07:37:20\n",
      "RT @Mickeyarthurcr1: Spot on!\n",
      "2021-04-25 06:05:22\n",
      "লংকানদের বাংলাদেশ ক্রিকেট নিয়ে বেশি আইডিয়া নাই মনে হয়। থাকলে এতোক্ষণে ডিক্লেয়ার করে দিতো।\n",
      "\n",
      "৮০% চান্স বাংলাদেশ ১… https://t.co/mzGPOeNV1l\n",
      "2021-04-23 13:09:38\n",
      "RT @icelandcricket: Behind the million-dollar glitz and glamour of the IPL, a great humanitarian catastrophe is unfolding in India. As we c…\n",
      "2021-04-23 13:09:08\n",
      "❤️ https://t.co/DzVbTB9myi\n",
      "2021-04-21 06:32:29\n",
      "What's the legal way to watch #SLvBAN Test in Australia? @BCBtigers @OfficialSLC\n",
      "2021-04-21 06:16:50\n",
      "@xunaed @TSLComms @ChampionsLeague মাঝখান দিয়ে মরিনহো স্যাক হয়ে গেলো।\n",
      "2021-04-16 13:20:07\n",
      "@afidelf How old are you?\n",
      "2021-04-16 13:18:26\n",
      "@xunaed @jacindaardern @HelenClarkNZ @nzpolice @NZStuff I love NZ. ❤️\n",
      "2021-04-16 08:51:27\n",
      "@cricketingview No love for Shakib?\n",
      "2021-04-06 13:16:39\n",
      "RT @cover_drives: Compilation of few best IPL commercials and promos.\n",
      "\n",
      "(A THREAD)\n",
      "2021-04-05 01:01:12\n",
      "ভাগ্য ভালো ট্রায়াল বাই কমব্যাট ডিমান্ড করে নাই।\n",
      "2021-03-29 01:25:14\n",
      "@stevesmithffx 😂\n",
      "2021-03-28 21:55:14\n",
      "@cricketingview No love for Tubby?\n",
      "2021-03-28 02:43:06\n",
      "বাংলাদেশকে ৫০ ওভার দেয়া হোক চেজের জন্য। ক্লোজ ম্যাচ হবে।\n",
      "2021-03-27 08:44:16\n",
      "@xunaed @cricketaakash 😂\n"
     ]
    }
   ],
   "source": [
    "#ANSWER:\n",
    "# tweets header info\n",
    "tweets = api.user_timeline()\n",
    "for tweet in tweets:\n",
    "    print(tweet.created_at)\n",
    "#     print(tweet.id_str)\n",
    "    print(tweet.text)"
   ]
  },
  {
   "cell_type": "code",
   "execution_count": 15,
   "metadata": {},
   "outputs": [],
   "source": [
    "tweet_list = []\n",
    "for tweet in tweets:\n",
    "    tweet_list.append(tweet._json)"
   ]
  },
  {
   "cell_type": "code",
   "execution_count": 16,
   "metadata": {},
   "outputs": [
    {
     "name": "stderr",
     "output_type": "stream",
     "text": [
      "\n",
      "Bad key \"text.kerning_factor\" on line 4 in\n",
      "/Users/uchino/anaconda3/lib/python3.7/site-packages/matplotlib/mpl-data/stylelib/_classic_test_patch.mplstyle.\n",
      "You probably need to get an updated matplotlibrc file from\n",
      "http://github.com/matplotlib/matplotlib/blob/master/matplotlibrc.template\n",
      "or from the matplotlib source distribution\n"
     ]
    }
   ],
   "source": [
    "import pandas as pd\n",
    "import matplotlib.pyplot as plt"
   ]
  },
  {
   "cell_type": "code",
   "execution_count": 17,
   "metadata": {},
   "outputs": [],
   "source": [
    "df = pd.DataFrame(tweet_list)"
   ]
  },
  {
   "cell_type": "code",
   "execution_count": 18,
   "metadata": {},
   "outputs": [],
   "source": [
    "df['created_at'] = pd.to_datetime(df['created_at'])\n",
    "df.set_index('created_at', inplace=True)"
   ]
  },
  {
   "cell_type": "code",
   "execution_count": 19,
   "metadata": {},
   "outputs": [
    {
     "data": {
      "text/html": [
       "<div>\n",
       "<style scoped>\n",
       "    .dataframe tbody tr th:only-of-type {\n",
       "        vertical-align: middle;\n",
       "    }\n",
       "\n",
       "    .dataframe tbody tr th {\n",
       "        vertical-align: top;\n",
       "    }\n",
       "\n",
       "    .dataframe thead th {\n",
       "        text-align: right;\n",
       "    }\n",
       "</style>\n",
       "<table border=\"1\" class=\"dataframe\">\n",
       "  <thead>\n",
       "    <tr style=\"text-align: right;\">\n",
       "      <th></th>\n",
       "      <th>id</th>\n",
       "      <th>id_str</th>\n",
       "      <th>text</th>\n",
       "      <th>truncated</th>\n",
       "      <th>entities</th>\n",
       "      <th>source</th>\n",
       "      <th>in_reply_to_status_id</th>\n",
       "      <th>in_reply_to_status_id_str</th>\n",
       "      <th>in_reply_to_user_id</th>\n",
       "      <th>in_reply_to_user_id_str</th>\n",
       "      <th>...</th>\n",
       "      <th>retweet_count</th>\n",
       "      <th>favorite_count</th>\n",
       "      <th>favorited</th>\n",
       "      <th>retweeted</th>\n",
       "      <th>lang</th>\n",
       "      <th>retweeted_status</th>\n",
       "      <th>quoted_status_id</th>\n",
       "      <th>quoted_status_id_str</th>\n",
       "      <th>quoted_status</th>\n",
       "      <th>possibly_sensitive</th>\n",
       "    </tr>\n",
       "    <tr>\n",
       "      <th>created_at</th>\n",
       "      <th></th>\n",
       "      <th></th>\n",
       "      <th></th>\n",
       "      <th></th>\n",
       "      <th></th>\n",
       "      <th></th>\n",
       "      <th></th>\n",
       "      <th></th>\n",
       "      <th></th>\n",
       "      <th></th>\n",
       "      <th></th>\n",
       "      <th></th>\n",
       "      <th></th>\n",
       "      <th></th>\n",
       "      <th></th>\n",
       "      <th></th>\n",
       "      <th></th>\n",
       "      <th></th>\n",
       "      <th></th>\n",
       "      <th></th>\n",
       "      <th></th>\n",
       "    </tr>\n",
       "  </thead>\n",
       "  <tbody>\n",
       "    <tr>\n",
       "      <th>2021-05-13 22:51:34+00:00</th>\n",
       "      <td>1392975835410231298</td>\n",
       "      <td>1392975835410231298</td>\n",
       "      <td>@robelinda2 @Saraansh3 Can we have those in yo...</td>\n",
       "      <td>False</td>\n",
       "      <td>{'hashtags': [], 'symbols': [], 'user_mentions...</td>\n",
       "      <td>&lt;a href=\"http://twitter.com/download/android\" ...</td>\n",
       "      <td>1.392804e+18</td>\n",
       "      <td>1392804271683342341</td>\n",
       "      <td>3.539962e+07</td>\n",
       "      <td>35399625</td>\n",
       "      <td>...</td>\n",
       "      <td>0</td>\n",
       "      <td>0</td>\n",
       "      <td>False</td>\n",
       "      <td>False</td>\n",
       "      <td>en</td>\n",
       "      <td>NaN</td>\n",
       "      <td>NaN</td>\n",
       "      <td>NaN</td>\n",
       "      <td>NaN</td>\n",
       "      <td>NaN</td>\n",
       "    </tr>\n",
       "    <tr>\n",
       "      <th>2021-05-12 13:24:58+00:00</th>\n",
       "      <td>1392470858975744000</td>\n",
       "      <td>1392470858975744000</td>\n",
       "      <td>@Afqaar2 @ziyanali78 @moonsightingau Fiji is c...</td>\n",
       "      <td>False</td>\n",
       "      <td>{'hashtags': [], 'symbols': [], 'user_mentions...</td>\n",
       "      <td>&lt;a href=\"http://twitter.com/download/android\" ...</td>\n",
       "      <td>1.392420e+18</td>\n",
       "      <td>1392419748810432515</td>\n",
       "      <td>1.178921e+18</td>\n",
       "      <td>1178920717062045696</td>\n",
       "      <td>...</td>\n",
       "      <td>0</td>\n",
       "      <td>0</td>\n",
       "      <td>False</td>\n",
       "      <td>False</td>\n",
       "      <td>en</td>\n",
       "      <td>NaN</td>\n",
       "      <td>NaN</td>\n",
       "      <td>NaN</td>\n",
       "      <td>NaN</td>\n",
       "      <td>NaN</td>\n",
       "    </tr>\n",
       "    <tr>\n",
       "      <th>2021-05-12 13:22:21+00:00</th>\n",
       "      <td>1392470201799565317</td>\n",
       "      <td>1392470201799565317</td>\n",
       "      <td>২০২১ সালে চাঁদ দেখা কমিটি করে, নতুন চাঁদ ডুবে ...</td>\n",
       "      <td>False</td>\n",
       "      <td>{'hashtags': [], 'symbols': [], 'user_mentions...</td>\n",
       "      <td>&lt;a href=\"http://twitter.com/download/android\" ...</td>\n",
       "      <td>NaN</td>\n",
       "      <td>None</td>\n",
       "      <td>NaN</td>\n",
       "      <td>None</td>\n",
       "      <td>...</td>\n",
       "      <td>0</td>\n",
       "      <td>0</td>\n",
       "      <td>False</td>\n",
       "      <td>False</td>\n",
       "      <td>bn</td>\n",
       "      <td>NaN</td>\n",
       "      <td>NaN</td>\n",
       "      <td>NaN</td>\n",
       "      <td>NaN</td>\n",
       "      <td>NaN</td>\n",
       "    </tr>\n",
       "    <tr>\n",
       "      <th>2021-05-05 08:22:14+00:00</th>\n",
       "      <td>1389857960990449667</td>\n",
       "      <td>1389857960990449667</td>\n",
       "      <td>RT @ovshake42: IPL suspended for the season.\\n...</td>\n",
       "      <td>False</td>\n",
       "      <td>{'hashtags': [], 'symbols': [], 'user_mentions...</td>\n",
       "      <td>&lt;a href=\"http://twitter.com/download/android\" ...</td>\n",
       "      <td>NaN</td>\n",
       "      <td>None</td>\n",
       "      <td>NaN</td>\n",
       "      <td>None</td>\n",
       "      <td>...</td>\n",
       "      <td>271</td>\n",
       "      <td>0</td>\n",
       "      <td>True</td>\n",
       "      <td>True</td>\n",
       "      <td>en</td>\n",
       "      <td>{'created_at': 'Tue May 04 07:58:39 +0000 2021...</td>\n",
       "      <td>NaN</td>\n",
       "      <td>NaN</td>\n",
       "      <td>NaN</td>\n",
       "      <td>NaN</td>\n",
       "    </tr>\n",
       "    <tr>\n",
       "      <th>2021-04-26 07:42:38+00:00</th>\n",
       "      <td>1386586503682293760</td>\n",
       "      <td>1386586503682293760</td>\n",
       "      <td>RT @sidvee: Of course people can 'not watch IP...</td>\n",
       "      <td>False</td>\n",
       "      <td>{'hashtags': [], 'symbols': [], 'user_mentions...</td>\n",
       "      <td>&lt;a href=\"http://twitter.com/download/android\" ...</td>\n",
       "      <td>NaN</td>\n",
       "      <td>None</td>\n",
       "      <td>NaN</td>\n",
       "      <td>None</td>\n",
       "      <td>...</td>\n",
       "      <td>462</td>\n",
       "      <td>0</td>\n",
       "      <td>False</td>\n",
       "      <td>True</td>\n",
       "      <td>en</td>\n",
       "      <td>{'created_at': 'Mon Apr 26 05:42:26 +0000 2021...</td>\n",
       "      <td>NaN</td>\n",
       "      <td>NaN</td>\n",
       "      <td>NaN</td>\n",
       "      <td>NaN</td>\n",
       "    </tr>\n",
       "  </tbody>\n",
       "</table>\n",
       "<p>5 rows × 27 columns</p>\n",
       "</div>"
      ],
      "text/plain": [
       "                                            id               id_str  \\\n",
       "created_at                                                            \n",
       "2021-05-13 22:51:34+00:00  1392975835410231298  1392975835410231298   \n",
       "2021-05-12 13:24:58+00:00  1392470858975744000  1392470858975744000   \n",
       "2021-05-12 13:22:21+00:00  1392470201799565317  1392470201799565317   \n",
       "2021-05-05 08:22:14+00:00  1389857960990449667  1389857960990449667   \n",
       "2021-04-26 07:42:38+00:00  1386586503682293760  1386586503682293760   \n",
       "\n",
       "                                                                        text  \\\n",
       "created_at                                                                     \n",
       "2021-05-13 22:51:34+00:00  @robelinda2 @Saraansh3 Can we have those in yo...   \n",
       "2021-05-12 13:24:58+00:00  @Afqaar2 @ziyanali78 @moonsightingau Fiji is c...   \n",
       "2021-05-12 13:22:21+00:00  ২০২১ সালে চাঁদ দেখা কমিটি করে, নতুন চাঁদ ডুবে ...   \n",
       "2021-05-05 08:22:14+00:00  RT @ovshake42: IPL suspended for the season.\\n...   \n",
       "2021-04-26 07:42:38+00:00  RT @sidvee: Of course people can 'not watch IP...   \n",
       "\n",
       "                           truncated  \\\n",
       "created_at                             \n",
       "2021-05-13 22:51:34+00:00      False   \n",
       "2021-05-12 13:24:58+00:00      False   \n",
       "2021-05-12 13:22:21+00:00      False   \n",
       "2021-05-05 08:22:14+00:00      False   \n",
       "2021-04-26 07:42:38+00:00      False   \n",
       "\n",
       "                                                                    entities  \\\n",
       "created_at                                                                     \n",
       "2021-05-13 22:51:34+00:00  {'hashtags': [], 'symbols': [], 'user_mentions...   \n",
       "2021-05-12 13:24:58+00:00  {'hashtags': [], 'symbols': [], 'user_mentions...   \n",
       "2021-05-12 13:22:21+00:00  {'hashtags': [], 'symbols': [], 'user_mentions...   \n",
       "2021-05-05 08:22:14+00:00  {'hashtags': [], 'symbols': [], 'user_mentions...   \n",
       "2021-04-26 07:42:38+00:00  {'hashtags': [], 'symbols': [], 'user_mentions...   \n",
       "\n",
       "                                                                      source  \\\n",
       "created_at                                                                     \n",
       "2021-05-13 22:51:34+00:00  <a href=\"http://twitter.com/download/android\" ...   \n",
       "2021-05-12 13:24:58+00:00  <a href=\"http://twitter.com/download/android\" ...   \n",
       "2021-05-12 13:22:21+00:00  <a href=\"http://twitter.com/download/android\" ...   \n",
       "2021-05-05 08:22:14+00:00  <a href=\"http://twitter.com/download/android\" ...   \n",
       "2021-04-26 07:42:38+00:00  <a href=\"http://twitter.com/download/android\" ...   \n",
       "\n",
       "                           in_reply_to_status_id in_reply_to_status_id_str  \\\n",
       "created_at                                                                   \n",
       "2021-05-13 22:51:34+00:00           1.392804e+18       1392804271683342341   \n",
       "2021-05-12 13:24:58+00:00           1.392420e+18       1392419748810432515   \n",
       "2021-05-12 13:22:21+00:00                    NaN                      None   \n",
       "2021-05-05 08:22:14+00:00                    NaN                      None   \n",
       "2021-04-26 07:42:38+00:00                    NaN                      None   \n",
       "\n",
       "                           in_reply_to_user_id in_reply_to_user_id_str  ...  \\\n",
       "created_at                                                              ...   \n",
       "2021-05-13 22:51:34+00:00         3.539962e+07                35399625  ...   \n",
       "2021-05-12 13:24:58+00:00         1.178921e+18     1178920717062045696  ...   \n",
       "2021-05-12 13:22:21+00:00                  NaN                    None  ...   \n",
       "2021-05-05 08:22:14+00:00                  NaN                    None  ...   \n",
       "2021-04-26 07:42:38+00:00                  NaN                    None  ...   \n",
       "\n",
       "                          retweet_count favorite_count favorited retweeted  \\\n",
       "created_at                                                                   \n",
       "2021-05-13 22:51:34+00:00             0              0     False     False   \n",
       "2021-05-12 13:24:58+00:00             0              0     False     False   \n",
       "2021-05-12 13:22:21+00:00             0              0     False     False   \n",
       "2021-05-05 08:22:14+00:00           271              0      True      True   \n",
       "2021-04-26 07:42:38+00:00           462              0     False      True   \n",
       "\n",
       "                          lang  \\\n",
       "created_at                       \n",
       "2021-05-13 22:51:34+00:00   en   \n",
       "2021-05-12 13:24:58+00:00   en   \n",
       "2021-05-12 13:22:21+00:00   bn   \n",
       "2021-05-05 08:22:14+00:00   en   \n",
       "2021-04-26 07:42:38+00:00   en   \n",
       "\n",
       "                                                            retweeted_status  \\\n",
       "created_at                                                                     \n",
       "2021-05-13 22:51:34+00:00                                                NaN   \n",
       "2021-05-12 13:24:58+00:00                                                NaN   \n",
       "2021-05-12 13:22:21+00:00                                                NaN   \n",
       "2021-05-05 08:22:14+00:00  {'created_at': 'Tue May 04 07:58:39 +0000 2021...   \n",
       "2021-04-26 07:42:38+00:00  {'created_at': 'Mon Apr 26 05:42:26 +0000 2021...   \n",
       "\n",
       "                           quoted_status_id  quoted_status_id_str  \\\n",
       "created_at                                                          \n",
       "2021-05-13 22:51:34+00:00               NaN                   NaN   \n",
       "2021-05-12 13:24:58+00:00               NaN                   NaN   \n",
       "2021-05-12 13:22:21+00:00               NaN                   NaN   \n",
       "2021-05-05 08:22:14+00:00               NaN                   NaN   \n",
       "2021-04-26 07:42:38+00:00               NaN                   NaN   \n",
       "\n",
       "                           quoted_status  possibly_sensitive  \n",
       "created_at                                                    \n",
       "2021-05-13 22:51:34+00:00            NaN                 NaN  \n",
       "2021-05-12 13:24:58+00:00            NaN                 NaN  \n",
       "2021-05-12 13:22:21+00:00            NaN                 NaN  \n",
       "2021-05-05 08:22:14+00:00            NaN                 NaN  \n",
       "2021-04-26 07:42:38+00:00            NaN                 NaN  \n",
       "\n",
       "[5 rows x 27 columns]"
      ]
     },
     "execution_count": 19,
     "metadata": {},
     "output_type": "execute_result"
    }
   ],
   "source": [
    "df.head()"
   ]
  },
  {
   "cell_type": "code",
   "execution_count": 20,
   "metadata": {},
   "outputs": [
    {
     "data": {
      "text/plain": [
       "id                             int64\n",
       "id_str                        object\n",
       "text                          object\n",
       "truncated                       bool\n",
       "entities                      object\n",
       "source                        object\n",
       "in_reply_to_status_id        float64\n",
       "in_reply_to_status_id_str     object\n",
       "in_reply_to_user_id          float64\n",
       "in_reply_to_user_id_str       object\n",
       "in_reply_to_screen_name       object\n",
       "user                          object\n",
       "geo                           object\n",
       "coordinates                   object\n",
       "place                         object\n",
       "contributors                  object\n",
       "is_quote_status                 bool\n",
       "retweet_count                  int64\n",
       "favorite_count                 int64\n",
       "favorited                       bool\n",
       "retweeted                       bool\n",
       "lang                          object\n",
       "retweeted_status              object\n",
       "quoted_status_id             float64\n",
       "quoted_status_id_str          object\n",
       "quoted_status                 object\n",
       "possibly_sensitive            object\n",
       "dtype: object"
      ]
     },
     "execution_count": 20,
     "metadata": {},
     "output_type": "execute_result"
    }
   ],
   "source": [
    "df.dtypes"
   ]
  },
  {
   "cell_type": "code",
   "execution_count": 21,
   "metadata": {},
   "outputs": [
    {
     "data": {
      "image/png": "[encoded data removed]",
      "text/plain": [
       "<Figure size 1080x432 with 1 Axes>"
      ]
     },
     "metadata": {
      "needs_background": "light"
     },
     "output_type": "display_data"
    }
   ],
   "source": [
    "y = df['id'].resample('D').sum()\n",
    "y.plot(figsize=(15, 6));"
   ]
  },
  {
   "cell_type": "code",
   "execution_count": 22,
   "metadata": {},
   "outputs": [],
   "source": [
    "from wordcloud import WordCloud, STOPWORDS"
   ]
  },
  {
   "cell_type": "code",
   "execution_count": 26,
   "metadata": {},
   "outputs": [],
   "source": [
    "def check_tweets(twitter_handle):\n",
    "    json_str = []\n",
    "    for status in tweepy.Cursor(api.user_timeline,id=twitter_handle).items(200):\n",
    "        json_str.append(status._json)\n",
    "    \n",
    "    df = pd.DataFrame(json_str)\n",
    "    df['created_at'] = pd.to_datetime(df['created_at'])\n",
    "    df.set_index('created_at', inplace=True)\n",
    "    \n",
    "    y = df['id'].resample('D').count()\n",
    "    y.plot(figsize=(15, 6))\n",
    "    plt.show();"
   ]
  },
  {
   "cell_type": "code",
   "execution_count": 27,
   "metadata": {},
   "outputs": [],
   "source": [
    "def check_tweets_wordcloud(twitter_handle, withall=True):\n",
    "    json_str = []\n",
    "    for status in tweepy.Cursor(api.user_timeline,id=twitter_handle).items(200):\n",
    "        json_str.append(status._json)\n",
    "    \n",
    "    df = pd.DataFrame(json_str)\n",
    "    \n",
    "    if withall: \n",
    "        text = df.text.values\n",
    "    else:\n",
    "        text = ','.join([x for x in df.text.values])\n",
    "        blob = TextBlob(text)\n",
    "        text = blob.noun_phrases\n",
    "    \n",
    "    wordcloud = WordCloud(\n",
    "        width = 3000\n",
    "        , height = 2000\n",
    "        , background_color = 'black'\n",
    "        , stopwords = STOPWORDS\n",
    "    ).generate(str(text))\n",
    "    \n",
    "    fig = plt.figure(figsize = (40, 30), facecolor = 'k', edgecolor = 'k')\n",
    "    plt.imshow(wordcloud, interpolation = 'bilinear')\n",
    "    plt.axis('off')\n",
    "    plt.show();"
   ]
  },
  {
   "cell_type": "code",
   "execution_count": null,
   "metadata": {},
   "outputs": [],
   "source": [
    "check_tweets('realDonaldTrump')"
   ]
  },
  {
   "cell_type": "code",
   "execution_count": null,
   "metadata": {},
   "outputs": [],
   "source": [
    "check_tweets_wordcloud('realDonaldTrump', withall=False)"
   ]
  },
  {
   "cell_type": "markdown",
   "metadata": {
    "colab_type": "text",
    "id": "3PibchrmJhQ-"
   },
   "source": [
    "You can create a tweet as follows:"
   ]
  },
  {
   "cell_type": "code",
   "execution_count": 29,
   "metadata": {
    "colab": {},
    "colab_type": "code",
    "id": "IwzTjf1gJhQ_"
   },
   "outputs": [],
   "source": [
    "# create a tweet:\n",
    "tweet = api.update_status('Test: Made with Tweepy')"
   ]
  },
  {
   "cell_type": "markdown",
   "metadata": {
    "colab_type": "text",
    "id": "TtlXvbjoJhRB"
   },
   "source": [
    "(Nb. Don't abuse this feature! If you try to generate a zillion tweets in a loop, Twitter will ban youur account.)"
   ]
  },
  {
   "cell_type": "markdown",
   "metadata": {
    "colab_type": "text",
    "id": "awUIiruTJhRB"
   },
   "source": [
    "Tweets can be deleted by reference to their `id_str` attribute:"
   ]
  },
  {
   "cell_type": "code",
   "execution_count": 30,
   "metadata": {
    "colab": {},
    "colab_type": "code",
    "id": "tKPSCOEBJhRC"
   },
   "outputs": [],
   "source": [
    "# delete a tweet:\n",
    "status = api.destroy_status(tweet.id_str)"
   ]
  },
  {
   "cell_type": "markdown",
   "metadata": {
    "colab_type": "text",
    "id": "hEt9NWJBJhRE"
   },
   "source": [
    "You can follow a Tweeter:"
   ]
  },
  {
   "cell_type": "code",
   "execution_count": 31,
   "metadata": {
    "colab": {},
    "colab_type": "code",
    "id": "CDWxR8wOJhRF"
   },
   "outputs": [
    {
     "data": {
      "text/plain": [
       "User(_api=<tweepy.api.API object at 0x7f9ee22a3c88>, _json={'id': 10228272, 'id_str': '10228272', 'name': 'YouTube', 'screen_name': 'YouTube', 'location': 'San Bruno, CA', 'description': 'Like and subscribe.', 'url': 'https://t.co/qkVaJFk2CG', 'entities': {'url': {'urls': [{'url': 'https://t.co/qkVaJFk2CG', 'expanded_url': 'https://www.youtube.com/', 'display_url': 'youtube.com', 'indices': [0, 23]}]}, 'description': {'urls': []}}, 'protected': False, 'followers_count': 73163285, 'friends_count': 1202, 'listed_count': 79252, 'created_at': 'Tue Nov 13 21:43:46 +0000 2007', 'favourites_count': 5535, 'utc_offset': None, 'time_zone': None, 'geo_enabled': False, 'verified': True, 'statuses_count': 33251, 'lang': None, 'status': {'created_at': 'Tue May 18 10:00:11 +0000 2021', 'id': 1394593653046321156, 'id_str': '1394593653046321156', 'text': '@thbaron27 @sohokofi 👑 The real Queen of fashion 👑', 'truncated': False, 'entities': {'hashtags': [], 'symbols': [], 'user_mentions': [{'screen_name': 'thbaron27', 'name': 'The Baron', 'id': 957556345976377344, 'id_str': '957556345976377344', 'indices': [0, 10]}, {'screen_name': 'sohokofi', 'name': 'icykof', 'id': 1453827816, 'id_str': '1453827816', 'indices': [11, 20]}], 'urls': []}, 'source': '<a href=\"https://mobile.twitter.com\" rel=\"nofollow\">Twitter Web App</a>', 'in_reply_to_status_id': 1394586806771986435, 'in_reply_to_status_id_str': '1394586806771986435', 'in_reply_to_user_id': 957556345976377344, 'in_reply_to_user_id_str': '957556345976377344', 'in_reply_to_screen_name': 'thbaron27', 'geo': None, 'coordinates': None, 'place': None, 'contributors': None, 'is_quote_status': False, 'retweet_count': 1, 'favorite_count': 4, 'favorited': False, 'retweeted': False, 'lang': 'en'}, 'contributors_enabled': False, 'is_translator': False, 'is_translation_enabled': True, 'profile_background_color': 'AF0000', 'profile_background_image_url': 'http://abs.twimg.com/images/themes/theme14/bg.gif', 'profile_background_image_url_https': 'https://abs.twimg.com/images/themes/theme14/bg.gif', 'profile_background_tile': True, 'profile_image_url': 'http://pbs.twimg.com/profile_images/1308106203860529152/yOwTDF9G_normal.jpg', 'profile_image_url_https': 'https://pbs.twimg.com/profile_images/1308106203860529152/yOwTDF9G_normal.jpg', 'profile_banner_url': 'https://pbs.twimg.com/profile_banners/10228272/1617285521', 'profile_link_color': 'C9191D', 'profile_sidebar_border_color': '000000', 'profile_sidebar_fill_color': 'EFEFEF', 'profile_text_color': '333333', 'profile_use_background_image': True, 'has_extended_profile': False, 'default_profile': False, 'default_profile_image': False, 'following': False, 'follow_request_sent': False, 'notifications': False, 'muting': False, 'translator_type': 'regular', 'withheld_in_countries': []}, id=10228272, id_str='10228272', name='YouTube', screen_name='YouTube', location='San Bruno, CA', description='Like and subscribe.', url='https://t.co/qkVaJFk2CG', entities={'url': {'urls': [{'url': 'https://t.co/qkVaJFk2CG', 'expanded_url': 'https://www.youtube.com/', 'display_url': 'youtube.com', 'indices': [0, 23]}]}, 'description': {'urls': []}}, protected=False, followers_count=73163285, friends_count=1202, listed_count=79252, created_at=datetime.datetime(2007, 11, 13, 21, 43, 46), favourites_count=5535, utc_offset=None, time_zone=None, geo_enabled=False, verified=True, statuses_count=33251, lang=None, status=Status(_api=<tweepy.api.API object at 0x7f9ee22a3c88>, _json={'created_at': 'Tue May 18 10:00:11 +0000 2021', 'id': 1394593653046321156, 'id_str': '1394593653046321156', 'text': '@thbaron27 @sohokofi 👑 The real Queen of fashion 👑', 'truncated': False, 'entities': {'hashtags': [], 'symbols': [], 'user_mentions': [{'screen_name': 'thbaron27', 'name': 'The Baron', 'id': 957556345976377344, 'id_str': '957556345976377344', 'indices': [0, 10]}, {'screen_name': 'sohokofi', 'name': 'icykof', 'id': 1453827816, 'id_str': '1453827816', 'indices': [11, 20]}], 'urls': []}, 'source': '<a href=\"https://mobile.twitter.com\" rel=\"nofollow\">Twitter Web App</a>', 'in_reply_to_status_id': 1394586806771986435, 'in_reply_to_status_id_str': '1394586806771986435', 'in_reply_to_user_id': 957556345976377344, 'in_reply_to_user_id_str': '957556345976377344', 'in_reply_to_screen_name': 'thbaron27', 'geo': None, 'coordinates': None, 'place': None, 'contributors': None, 'is_quote_status': False, 'retweet_count': 1, 'favorite_count': 4, 'favorited': False, 'retweeted': False, 'lang': 'en'}, created_at=datetime.datetime(2021, 5, 18, 10, 0, 11), id=1394593653046321156, id_str='1394593653046321156', text='@thbaron27 @sohokofi 👑 The real Queen of fashion 👑', truncated=False, entities={'hashtags': [], 'symbols': [], 'user_mentions': [{'screen_name': 'thbaron27', 'name': 'The Baron', 'id': 957556345976377344, 'id_str': '957556345976377344', 'indices': [0, 10]}, {'screen_name': 'sohokofi', 'name': 'icykof', 'id': 1453827816, 'id_str': '1453827816', 'indices': [11, 20]}], 'urls': []}, source='Twitter Web App', source_url='https://mobile.twitter.com', in_reply_to_status_id=1394586806771986435, in_reply_to_status_id_str='1394586806771986435', in_reply_to_user_id=957556345976377344, in_reply_to_user_id_str='957556345976377344', in_reply_to_screen_name='thbaron27', geo=None, coordinates=None, place=None, contributors=None, is_quote_status=False, retweet_count=1, favorite_count=4, favorited=False, retweeted=False, lang='en'), contributors_enabled=False, is_translator=False, is_translation_enabled=True, profile_background_color='AF0000', profile_background_image_url='http://abs.twimg.com/images/themes/theme14/bg.gif', profile_background_image_url_https='https://abs.twimg.com/images/themes/theme14/bg.gif', profile_background_tile=True, profile_image_url='http://pbs.twimg.com/profile_images/1308106203860529152/yOwTDF9G_normal.jpg', profile_image_url_https='https://pbs.twimg.com/profile_images/1308106203860529152/yOwTDF9G_normal.jpg', profile_banner_url='https://pbs.twimg.com/profile_banners/10228272/1617285521', profile_link_color='C9191D', profile_sidebar_border_color='000000', profile_sidebar_fill_color='EFEFEF', profile_text_color='333333', profile_use_background_image=True, has_extended_profile=False, default_profile=False, default_profile_image=False, following=False, follow_request_sent=False, notifications=False, muting=False, translator_type='regular', withheld_in_countries=[])"
      ]
     },
     "execution_count": 31,
     "metadata": {},
     "output_type": "execute_result"
    }
   ],
   "source": [
    "# follow:\n",
    "api.create_friendship('@YouTube')"
   ]
  },
  {
   "cell_type": "markdown",
   "metadata": {
    "colab_type": "text",
    "id": "Nbp2vRONJhRH"
   },
   "source": [
    "or unfollow:"
   ]
  },
  {
   "cell_type": "code",
   "execution_count": 32,
   "metadata": {
    "colab": {},
    "colab_type": "code",
    "id": "wCsNNVT9JhRH"
   },
   "outputs": [
    {
     "data": {
      "text/plain": [
       "User(_api=<tweepy.api.API object at 0x7f9ee22a3c88>, _json={'id': 10228272, 'id_str': '10228272', 'name': 'YouTube', 'screen_name': 'YouTube', 'location': 'San Bruno, CA', 'description': 'Like and subscribe.', 'url': 'https://t.co/qkVaJFk2CG', 'entities': {'url': {'urls': [{'url': 'https://t.co/qkVaJFk2CG', 'expanded_url': 'https://www.youtube.com/', 'display_url': 'youtube.com', 'indices': [0, 23]}]}, 'description': {'urls': []}}, 'protected': False, 'followers_count': 73163285, 'friends_count': 1202, 'listed_count': 79252, 'created_at': 'Tue Nov 13 21:43:46 +0000 2007', 'favourites_count': 5535, 'utc_offset': None, 'time_zone': None, 'geo_enabled': False, 'verified': True, 'statuses_count': 33251, 'lang': None, 'status': {'created_at': 'Tue May 18 10:00:11 +0000 2021', 'id': 1394593653046321156, 'id_str': '1394593653046321156', 'text': '@thbaron27 @sohokofi 👑 The real Queen of fashion 👑', 'truncated': False, 'entities': {'hashtags': [], 'symbols': [], 'user_mentions': [{'screen_name': 'thbaron27', 'name': 'The Baron', 'id': 957556345976377344, 'id_str': '957556345976377344', 'indices': [0, 10]}, {'screen_name': 'sohokofi', 'name': 'icykof', 'id': 1453827816, 'id_str': '1453827816', 'indices': [11, 20]}], 'urls': []}, 'source': '<a href=\"https://mobile.twitter.com\" rel=\"nofollow\">Twitter Web App</a>', 'in_reply_to_status_id': 1394586806771986435, 'in_reply_to_status_id_str': '1394586806771986435', 'in_reply_to_user_id': 957556345976377344, 'in_reply_to_user_id_str': '957556345976377344', 'in_reply_to_screen_name': 'thbaron27', 'geo': None, 'coordinates': None, 'place': None, 'contributors': None, 'is_quote_status': False, 'retweet_count': 1, 'favorite_count': 4, 'favorited': False, 'retweeted': False, 'lang': 'en'}, 'contributors_enabled': False, 'is_translator': False, 'is_translation_enabled': True, 'profile_background_color': 'AF0000', 'profile_background_image_url': 'http://abs.twimg.com/images/themes/theme14/bg.gif', 'profile_background_image_url_https': 'https://abs.twimg.com/images/themes/theme14/bg.gif', 'profile_background_tile': True, 'profile_image_url': 'http://pbs.twimg.com/profile_images/1308106203860529152/yOwTDF9G_normal.jpg', 'profile_image_url_https': 'https://pbs.twimg.com/profile_images/1308106203860529152/yOwTDF9G_normal.jpg', 'profile_banner_url': 'https://pbs.twimg.com/profile_banners/10228272/1617285521', 'profile_link_color': 'C9191D', 'profile_sidebar_border_color': '000000', 'profile_sidebar_fill_color': 'EFEFEF', 'profile_text_color': '333333', 'profile_use_background_image': True, 'has_extended_profile': False, 'default_profile': False, 'default_profile_image': False, 'following': True, 'follow_request_sent': False, 'notifications': False, 'muting': False, 'translator_type': 'regular', 'withheld_in_countries': []}, id=10228272, id_str='10228272', name='YouTube', screen_name='YouTube', location='San Bruno, CA', description='Like and subscribe.', url='https://t.co/qkVaJFk2CG', entities={'url': {'urls': [{'url': 'https://t.co/qkVaJFk2CG', 'expanded_url': 'https://www.youtube.com/', 'display_url': 'youtube.com', 'indices': [0, 23]}]}, 'description': {'urls': []}}, protected=False, followers_count=73163285, friends_count=1202, listed_count=79252, created_at=datetime.datetime(2007, 11, 13, 21, 43, 46), favourites_count=5535, utc_offset=None, time_zone=None, geo_enabled=False, verified=True, statuses_count=33251, lang=None, status=Status(_api=<tweepy.api.API object at 0x7f9ee22a3c88>, _json={'created_at': 'Tue May 18 10:00:11 +0000 2021', 'id': 1394593653046321156, 'id_str': '1394593653046321156', 'text': '@thbaron27 @sohokofi 👑 The real Queen of fashion 👑', 'truncated': False, 'entities': {'hashtags': [], 'symbols': [], 'user_mentions': [{'screen_name': 'thbaron27', 'name': 'The Baron', 'id': 957556345976377344, 'id_str': '957556345976377344', 'indices': [0, 10]}, {'screen_name': 'sohokofi', 'name': 'icykof', 'id': 1453827816, 'id_str': '1453827816', 'indices': [11, 20]}], 'urls': []}, 'source': '<a href=\"https://mobile.twitter.com\" rel=\"nofollow\">Twitter Web App</a>', 'in_reply_to_status_id': 1394586806771986435, 'in_reply_to_status_id_str': '1394586806771986435', 'in_reply_to_user_id': 957556345976377344, 'in_reply_to_user_id_str': '957556345976377344', 'in_reply_to_screen_name': 'thbaron27', 'geo': None, 'coordinates': None, 'place': None, 'contributors': None, 'is_quote_status': False, 'retweet_count': 1, 'favorite_count': 4, 'favorited': False, 'retweeted': False, 'lang': 'en'}, created_at=datetime.datetime(2021, 5, 18, 10, 0, 11), id=1394593653046321156, id_str='1394593653046321156', text='@thbaron27 @sohokofi 👑 The real Queen of fashion 👑', truncated=False, entities={'hashtags': [], 'symbols': [], 'user_mentions': [{'screen_name': 'thbaron27', 'name': 'The Baron', 'id': 957556345976377344, 'id_str': '957556345976377344', 'indices': [0, 10]}, {'screen_name': 'sohokofi', 'name': 'icykof', 'id': 1453827816, 'id_str': '1453827816', 'indices': [11, 20]}], 'urls': []}, source='Twitter Web App', source_url='https://mobile.twitter.com', in_reply_to_status_id=1394586806771986435, in_reply_to_status_id_str='1394586806771986435', in_reply_to_user_id=957556345976377344, in_reply_to_user_id_str='957556345976377344', in_reply_to_screen_name='thbaron27', geo=None, coordinates=None, place=None, contributors=None, is_quote_status=False, retweet_count=1, favorite_count=4, favorited=False, retweeted=False, lang='en'), contributors_enabled=False, is_translator=False, is_translation_enabled=True, profile_background_color='AF0000', profile_background_image_url='http://abs.twimg.com/images/themes/theme14/bg.gif', profile_background_image_url_https='https://abs.twimg.com/images/themes/theme14/bg.gif', profile_background_tile=True, profile_image_url='http://pbs.twimg.com/profile_images/1308106203860529152/yOwTDF9G_normal.jpg', profile_image_url_https='https://pbs.twimg.com/profile_images/1308106203860529152/yOwTDF9G_normal.jpg', profile_banner_url='https://pbs.twimg.com/profile_banners/10228272/1617285521', profile_link_color='C9191D', profile_sidebar_border_color='000000', profile_sidebar_fill_color='EFEFEF', profile_text_color='333333', profile_use_background_image=True, has_extended_profile=False, default_profile=False, default_profile_image=False, following=True, follow_request_sent=False, notifications=False, muting=False, translator_type='regular', withheld_in_countries=[])"
      ]
     },
     "execution_count": 32,
     "metadata": {},
     "output_type": "execute_result"
    }
   ],
   "source": [
    "# unfollow:\n",
    "api.destroy_friendship('@YouTube')"
   ]
  },
  {
   "cell_type": "code",
   "execution_count": 0,
   "metadata": {
    "colab": {},
    "colab_type": "code",
    "id": "ND4BmdkvJhRJ"
   },
   "outputs": [],
   "source": []
  },
  {
   "cell_type": "markdown",
   "metadata": {
    "colab_type": "text",
    "id": "YGIWBU4FJn0V"
   },
   "source": [
    ">\n",
    ">"
   ]
  },
  {
   "cell_type": "markdown",
   "metadata": {
    "colab_type": "text",
    "id": "l_IsftzjJp6w"
   },
   "source": [
    ">\n",
    ">"
   ]
  },
  {
   "cell_type": "markdown",
   "metadata": {
    "colab_type": "text",
    "id": "59l7EOATJrJO"
   },
   "source": [
    "\n",
    "\n",
    "---\n",
    "\n",
    "\n",
    "\n",
    "---\n",
    "\n",
    "\n",
    "\n",
    "> > > > > > > > > © 2019 Institute of Data\n",
    "\n",
    "\n",
    "---\n",
    "\n",
    "\n",
    "\n",
    "---\n",
    "\n",
    "\n",
    "\n"
   ]
  }
 ],
 "metadata": {
  "colab": {
   "collapsed_sections": [],
   "name": "DSIA Lab 2.2.2.ipynb",
   "provenance": []
  },
  "kernelspec": {
   "display_name": "Python 3",
   "language": "python",
   "name": "python3"
  },
  "language_info": {
   "codemirror_mode": {
    "name": "ipython",
    "version": 3
   },
   "file_extension": ".py",
   "mimetype": "text/x-python",
   "name": "python",
   "nbconvert_exporter": "python",
   "pygments_lexer": "ipython3",
   "version": "3.7.1"
  }
 },
 "nbformat": 4,
 "nbformat_minor": 1
}
